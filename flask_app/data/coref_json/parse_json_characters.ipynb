{
 "cells": [
  {
   "cell_type": "code",
   "execution_count": 26,
   "metadata": {
    "scrolled": true
   },
   "outputs": [],
   "source": [
    "import json\n",
    "from pprint import pprint\n",
    "from collections import defaultdict\n",
    "from operator import itemgetter\n",
    "from itertools import *\n",
    "\n",
    "with open('Werther_IH.json') as f:\n",
    "    data = json.load(f)\n",
    "\n",
    "positions = defaultdict(list)\n",
    "\n",
    "for n,each in enumerate(data):\n",
    "    if \"entities\" in each:\n",
    "        for i in each['entities']:\n",
    "            positions[i].append(n)            \n",
    "\n",
    "updated_positions = defaultdict(list) # add list of lists\n",
    "\n",
    "for k,v in positions.items():\n",
    "    for l, g in groupby(enumerate(v), lambda x: x[0]-x[1]):\n",
    "        updated_positions[k].append(list(map(itemgetter(1), g)))\n",
    "        "
   ]
  }
 ],
 "metadata": {
  "kernelspec": {
   "display_name": "Python 3",
   "language": "python",
   "name": "python3"
  },
  "language_info": {
   "codemirror_mode": {
    "name": "ipython",
    "version": 3
   },
   "file_extension": ".py",
   "mimetype": "text/x-python",
   "name": "python",
   "nbconvert_exporter": "python",
   "pygments_lexer": "ipython3",
   "version": "3.6.1"
  }
 },
 "nbformat": 4,
 "nbformat_minor": 2
}
